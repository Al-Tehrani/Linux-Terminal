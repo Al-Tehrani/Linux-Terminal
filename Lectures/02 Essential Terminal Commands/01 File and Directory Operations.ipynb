{
 "cells": [
  {
   "cell_type": "markdown",
   "metadata": {},
   "source": [
    "<img src=\"./images/banner.png\" width=\"800\">"
   ]
  },
  {
   "cell_type": "markdown",
   "metadata": {},
   "source": [
    "# File and Directory Management"
   ]
  },
  {
   "cell_type": "markdown",
   "metadata": {},
   "source": [
    "In the Linux operating system, efficient file and directory management is crucial for organizing your data and maintaining a well-structured system. The command-line interface provides powerful tools for these operations, allowing for precise control and automation of file handling tasks.\n"
   ]
  },
  {
   "cell_type": "markdown",
   "metadata": {},
   "source": [
    "Before diving into specific commands, it's important to understand the basic structure of the Linux file system:\n",
    "\n",
    "- **Hierarchical Structure**: Linux uses a tree-like hierarchy, starting from the root directory (`/`).\n",
    "- **Everything is a File**: In Linux, directories, devices, and even processes are treated as files.\n",
    "- **Case Sensitivity**: Unlike some other operating systems, Linux treats `file.txt` and `File.txt` as two different files.\n"
   ]
  },
  {
   "cell_type": "markdown",
   "metadata": {},
   "source": [
    "To effectively manage files and directories, you need to understand the following key concepts:\n",
    "1. **Paths**:\n",
    "   - **Absolute Path**: Starts from the root directory, e.g., `/home/user/Documents/file.txt`\n",
    "   - **Relative Path**: Relative to the current directory, e.g., `Documents/file.txt`\n",
    "\n",
    "2. **Current and Parent Directories**:\n",
    "   - `.` represents the current directory\n",
    "   - `..` represents the parent directory\n",
    "\n",
    "3. **Home Directory**:\n",
    "   - Represented by `~`\n",
    "   - Default location for a user's personal files\n"
   ]
  },
  {
   "cell_type": "markdown",
   "metadata": {},
   "source": [
    "While graphical file managers are available, using the command line for file operations offers several advantages:\n",
    "\n",
    "- **Speed**: Faster for many operations, especially when dealing with multiple files.\n",
    "- **Precision**: Allows for exact specification of what you want to do.\n",
    "- **Automation**: Can be easily scripted for repetitive tasks.\n",
    "- **Remote Access**: Essential when working on remote servers without a GUI.\n"
   ]
  },
  {
   "cell_type": "markdown",
   "metadata": {},
   "source": [
    "In this lecture, we'll cover the following essential operations:\n",
    "\n",
    "- Creating and removing directories\n",
    "- Creating, copying, moving, and deleting files\n",
    "- Working with multiple files using wildcards\n",
    "- Viewing file information\n"
   ]
  },
  {
   "cell_type": "markdown",
   "metadata": {},
   "source": [
    "Before we begin, remember these important points:\n",
    "\n",
    "- **Be Careful**: Some commands can be destructive and may not ask for confirmation.\n",
    "- **Use `--help`**: Most commands have a help option for quick reference.\n",
    "- **Practice in a Safe Environment**: Use a test directory for practice until you're comfortable.\n"
   ]
  },
  {
   "cell_type": "markdown",
   "metadata": {},
   "source": [
    "As we proceed, we'll explore each command in detail, providing examples and best practices for effective file and directory management in Linux."
   ]
  },
  {
   "cell_type": "markdown",
   "metadata": {},
   "source": [
    "## <a id='toc1_'></a>[Creating Directories: mkdir](#toc0_)"
   ]
  },
  {
   "cell_type": "markdown",
   "metadata": {},
   "source": [
    "**Table of contents**<a id='toc0_'></a>    \n",
    "- [Creating Directories: mkdir](#toc1_)    \n",
    "  - [Examples](#toc1_1_)    \n",
    "  - [Best Practices](#toc1_2_)    \n",
    "  - [Common Mistakes](#toc1_3_)    \n",
    "  - [Practical Exercise](#toc1_4_)    \n",
    "- [Creating Files: touch](#toc2_)    \n",
    "  - [Useful Options](#toc2_1_)    \n",
    "  - [Examples](#toc2_2_)    \n",
    "  - [Best Practices](#toc2_3_)    \n",
    "  - [Common Use Cases](#toc2_4_)    \n",
    "  - [Practical Exercise](#toc2_5_)    \n",
    "- [Removing Files and Directories: `rm` and `rmdir`](#toc3_)    \n",
    "  - [The `rm` Command](#toc3_1_)    \n",
    "  - [The `rmdir` Command](#toc3_2_)    \n",
    "  - [Best Practices and Safety Considerations](#toc3_3_)    \n",
    "  - [Common Mistakes and Warnings](#toc3_4_)    \n",
    "  - [Practical Exercises](#toc3_5_)    \n",
    "- [Copying Files and Directories: `cp`](#toc4_)    \n",
    "  - [Useful Options](#toc4_1_)    \n",
    "  - [Examples](#toc4_2_)    \n",
    "  - [Best Practices](#toc4_3_)    \n",
    "  - [Common Mistakes](#toc4_4_)    \n",
    "  - [Advanced Usage](#toc4_5_)    \n",
    "  - [Practical Exercise](#toc4_6_)    \n",
    "- [Moving and Renaming Files and Directories: mv](#toc5_)    \n",
    "  - [Useful Options](#toc5_1_)    \n",
    "  - [Examples](#toc5_2_)    \n",
    "  - [Best Practices](#toc5_3_)    \n",
    "  - [Common Mistakes](#toc5_4_)    \n",
    "  - [Advanced Usage](#toc5_5_)    \n",
    "  - [Practical Exercise](#toc5_6_)    \n",
    "- [Working with Multiple Files: Wildcards and Patterns](#toc6_)    \n",
    "  - [Basic Usage](#toc6_1_)    \n",
    "    - [The `*` Wildcard](#toc6_1_1_)    \n",
    "    - [The `?` Wildcard](#toc6_1_2_)    \n",
    "    - [The `[]` Wildcard ](#toc6_1_3_)    \n",
    "  - [Advanced Patterns](#toc6_2_)    \n",
    "  - [Combining Wildcards](#toc6_3_)    \n",
    "  - [Practical Applications](#toc6_4_)    \n",
    "  - [Best Practices and Tips](#toc6_5_)    \n",
    "  - [Common Mistakes](#toc6_6_)    \n",
    "  - [Practical Exercises](#toc6_7_)    \n",
    "- [Viewing File and Directory Information: `file` and `stat`](#toc7_)    \n",
    "  - [The `file` Command](#toc7_1_)    \n",
    "    - [Examples](#toc7_1_1_)    \n",
    "  - [The `stat` Command](#toc7_2_)    \n",
    "    - [Examples](#toc7_2_1_)    \n",
    "  - [Practical Applications](#toc7_3_)    \n",
    "  - [Best Practices and Tips](#toc7_4_)    \n",
    "  - [Practical Exercises](#toc7_5_)    \n",
    "- [Summary and Review](#toc8_)    \n",
    "\n",
    "<!-- vscode-jupyter-toc-config\n",
    "\tnumbering=false\n",
    "\tanchor=true\n",
    "\tflat=false\n",
    "\tminLevel=2\n",
    "\tmaxLevel=6\n",
    "\t/vscode-jupyter-toc-config -->\n",
    "<!-- THIS CELL WILL BE REPLACED ON TOC UPDATE. DO NOT WRITE YOUR TEXT IN THIS CELL -->"
   ]
  },
  {
   "cell_type": "markdown",
   "metadata": {},
   "source": [
    "The `mkdir` command is used to create new directories (folders) in Linux. It's a fundamental command for organizing your file system.\n",
    "\n",
    "```bash\n",
    "mkdir [options] directory_name\n",
    "```\n"
   ]
  },
  {
   "cell_type": "markdown",
   "metadata": {},
   "source": [
    "To create a single directory:\n",
    "\n",
    "```bash\n",
    "mkdir new_directory\n",
    "```\n",
    "\n",
    "This command creates a directory named `new_directory` in your current location.\n"
   ]
  },
  {
   "cell_type": "markdown",
   "metadata": {},
   "source": [
    "You can create multiple directories with a single command:\n",
    "\n",
    "```bash\n",
    "mkdir dir1 dir2 dir3\n",
    "```\n",
    "\n",
    "This creates three directories: `dir1`, `dir2`, and `dir3`.\n"
   ]
  },
  {
   "cell_type": "markdown",
   "metadata": {},
   "source": [
    "To create a directory structure with parent directories that don't exist yet, use the `-p` (parents) option:\n",
    "\n",
    "```bash\n",
    "mkdir -p parent/child/grandchild\n",
    "```\n",
    "\n",
    "This creates the entire directory structure, even if `parent` and `child` didn't exist before.\n"
   ]
  },
  {
   "cell_type": "markdown",
   "metadata": {},
   "source": [
    "Using options with `mkdir` can enhance its functionality:\n",
    "- `-v` (verbose): Print a message for each created directory\n",
    "- `-m` (mode): Set file permissions for new directories\n"
   ]
  },
  {
   "cell_type": "markdown",
   "metadata": {},
   "source": [
    "### <a id='toc1_1_'></a>[Examples](#toc0_)\n"
   ]
  },
  {
   "cell_type": "markdown",
   "metadata": {},
   "source": [
    "1. Create a directory with verbose output:\n",
    "   ```bash\n",
    "   mkdir -v project_files\n",
    "   ```\n"
   ]
  },
  {
   "cell_type": "markdown",
   "metadata": {},
   "source": [
    "2. Create multiple nested directories:\n",
    "   ```bash\n",
    "   mkdir -p projects/{web,mobile}/{src,docs,tests}\n",
    "   ```\n",
    "   This creates a structure like:\n",
    "   ```\n",
    "   projects/\n",
    "   ├── web/\n",
    "   │   ├── src/\n",
    "   │   ├── docs/\n",
    "   │   └── tests/\n",
    "   └── mobile/\n",
    "       ├── src/\n",
    "       ├── docs/\n",
    "       └── tests/\n",
    "   ```\n"
   ]
  },
  {
   "cell_type": "markdown",
   "metadata": {},
   "source": [
    "3. Create a directory with specific permissions:\n",
    "   ```bash\n",
    "   mkdir -m 755 secure_folder\n",
    "   ```\n",
    "   This creates `secure_folder` with read, write, and execute permissions for the owner, and read and execute permissions for others.\n"
   ]
  },
  {
   "cell_type": "markdown",
   "metadata": {},
   "source": [
    "### <a id='toc1_2_'></a>[Best Practices](#toc0_)"
   ]
  },
  {
   "cell_type": "markdown",
   "metadata": {},
   "source": [
    "1. **Use Descriptive Names**: Choose clear, meaningful directory names.\n",
    "2. **Avoid Spaces**: Use underscores or hyphens instead of spaces in directory names.\n",
    "3. **Plan Your Structure**: Think about your directory hierarchy before creating it.\n",
    "4. **Use the `-p` Option**: When in doubt, use `-p` to avoid errors with parent directories.\n"
   ]
  },
  {
   "cell_type": "markdown",
   "metadata": {},
   "source": [
    "### <a id='toc1_3_'></a>[Common Mistakes](#toc0_)\n"
   ]
  },
  {
   "cell_type": "markdown",
   "metadata": {},
   "source": [
    "- Forgetting to use `-p` when creating nested directories\n",
    "- Trying to create a directory that already exists (results in an error without `-p`)\n",
    "- Using spaces in directory names without proper quoting\n"
   ]
  },
  {
   "cell_type": "markdown",
   "metadata": {},
   "source": [
    "### <a id='toc1_4_'></a>[Practical Exercise](#toc0_)\n"
   ]
  },
  {
   "cell_type": "markdown",
   "metadata": {},
   "source": [
    "Try creating the following directory structure in your home directory:\n",
    "\n",
    "```\n",
    "~/projects/\n",
    "├── website/\n",
    "│   ├── css/\n",
    "│   ├── js/\n",
    "│   └── images/\n",
    "└── app/\n",
    "    ├── src/\n",
    "    └── tests/\n",
    "```\n"
   ]
  },
  {
   "cell_type": "markdown",
   "metadata": {},
   "source": [
    "Use a single `mkdir` command with the `-p` option to create this entire structure.\n"
   ]
  },
  {
   "cell_type": "markdown",
   "metadata": {},
   "source": [
    "Understanding and effectively using `mkdir` is crucial for organizing your Linux file system. Practice creating various directory structures to become comfortable with this essential command."
   ]
  },
  {
   "cell_type": "markdown",
   "metadata": {},
   "source": [
    "## <a id='toc2_'></a>[Creating Files: touch](#toc0_)"
   ]
  },
  {
   "cell_type": "markdown",
   "metadata": {},
   "source": [
    "The `touch` command is a versatile tool primarily used for creating empty files, but it also has other useful functions related to file timestamps.\n",
    "\n",
    "```bash\n",
    "touch [options] file_name\n",
    "```\n"
   ]
  },
  {
   "cell_type": "markdown",
   "metadata": {},
   "source": [
    "The `touch` command serves two main purposes:\n",
    "1. **Creating Empty Files**: If the file doesn't exist, `touch` creates it.\n",
    "2. **Updating Timestamps**: If the file exists, `touch` updates its access and modification times.\n"
   ]
  },
  {
   "cell_type": "markdown",
   "metadata": {},
   "source": [
    "To create a single empty file:\n",
    "\n",
    "```bash\n",
    "touch newfile.txt\n",
    "```\n",
    "\n",
    "This creates an empty file named `newfile.txt` in the current directory.\n"
   ]
  },
  {
   "cell_type": "markdown",
   "metadata": {},
   "source": [
    "You can create multiple files with a single command:\n",
    "\n",
    "```bash\n",
    "touch file1.txt file2.txt file3.txt\n",
    "```\n",
    "\n",
    "This creates three empty files: `file1.txt`, `file2.txt`, and `file3.txt`.\n"
   ]
  },
  {
   "cell_type": "markdown",
   "metadata": {},
   "source": [
    "If you `touch` an existing file, it updates the file's access and modification times to the current time:\n",
    "\n",
    "```bash\n",
    "touch existingfile.txt\n",
    "```\n"
   ]
  },
  {
   "cell_type": "markdown",
   "metadata": {},
   "source": [
    "### <a id='toc2_1_'></a>[Useful Options](#toc0_)\n"
   ]
  },
  {
   "cell_type": "markdown",
   "metadata": {},
   "source": [
    "- `-c` (no create): Don't create the file if it doesn't exist\n",
    "- `-a`: Change only the access time\n",
    "- `-m`: Change only the modification time\n",
    "- `-t`: Use a specific time instead of the current time\n"
   ]
  },
  {
   "cell_type": "markdown",
   "metadata": {},
   "source": [
    "### <a id='toc2_2_'></a>[Examples](#toc0_)\n"
   ]
  },
  {
   "cell_type": "markdown",
   "metadata": {},
   "source": [
    "1. Create a file only if it doesn't exist:\n",
    "   ```bash\n",
    "   touch -c document.txt\n",
    "   ```\n",
    "\n",
    "2. Update only the access time of a file:\n",
    "   ```bash\n",
    "   touch -a report.pdf\n",
    "   ```\n",
    "\n",
    "3. Set a specific timestamp for a file:\n",
    "   ```bash\n",
    "   touch -t 202112311200 newyear.txt\n",
    "   ```\n",
    "   This sets the timestamp to December 31, 2021, at 12:00 PM.\n",
    "\n",
    "4. Create multiple files with a pattern:\n",
    "   ```bash\n",
    "   touch file{1..5}.txt\n",
    "   ```\n",
    "   This creates file1.txt, file2.txt, file3.txt, file4.txt, and file5.txt.\n"
   ]
  },
  {
   "cell_type": "markdown",
   "metadata": {},
   "source": [
    "### <a id='toc2_3_'></a>[Best Practices](#toc0_)\n"
   ]
  },
  {
   "cell_type": "markdown",
   "metadata": {},
   "source": [
    "1. **Use Descriptive Names**: Choose clear, meaningful file names.\n",
    "2. **Avoid Spaces**: Use underscores or hyphens instead of spaces in file names.\n",
    "3. **Be Mindful of Extensions**: Use appropriate file extensions for better organization.\n",
    "4. **Check Existing Files**: Be careful not to accidentally update timestamps of existing files if that's not your intention.\n"
   ]
  },
  {
   "cell_type": "markdown",
   "metadata": {},
   "source": [
    "### <a id='toc2_4_'></a>[Common Use Cases](#toc0_)\n"
   ]
  },
  {
   "cell_type": "markdown",
   "metadata": {},
   "source": [
    "- Creating placeholder files for a project structure\n",
    "- Updating file timestamps for backup or build systems\n",
    "- Creating empty log files before running a process\n"
   ]
  },
  {
   "cell_type": "markdown",
   "metadata": {},
   "source": [
    "### <a id='toc2_5_'></a>[Practical Exercise](#toc0_)\n"
   ]
  },
  {
   "cell_type": "markdown",
   "metadata": {},
   "source": [
    "1. Create three empty files with different extensions:\n",
    "   ```bash\n",
    "   touch project.txt script.py data.csv\n",
    "   ```\n",
    "\n",
    "2. Update the timestamp of an existing file:\n",
    "   ```bash\n",
    "   touch -m existing_file.txt\n",
    "   ```\n",
    "\n",
    "3. Create a series of numbered files:\n",
    "   ```bash\n",
    "   touch log_file_{01..10}.txt\n",
    "   ```\n",
    "\n",
    "4. Use `ls -l` to view the timestamps of the files you've created and modified.\n"
   ]
  },
  {
   "cell_type": "markdown",
   "metadata": {},
   "source": [
    "Understanding `touch` is valuable for file management and scripting in Linux. While simple, it's a powerful tool for creating files and manipulating file timestamps, which can be crucial in various development and system administration tasks."
   ]
  },
  {
   "cell_type": "markdown",
   "metadata": {},
   "source": [
    "## <a id='toc3_'></a>[Removing Files and Directories: `rm` and `rmdir`](#toc0_)"
   ]
  },
  {
   "cell_type": "markdown",
   "metadata": {},
   "source": [
    "In Linux, we use `rm` (remove) for deleting files and non-empty directories, and `rmdir` for removing empty directories. Understanding both commands is crucial for effective file system management.\n"
   ]
  },
  {
   "cell_type": "markdown",
   "metadata": {},
   "source": [
    "### <a id='toc3_1_'></a>[The `rm` Command](#toc0_)\n"
   ]
  },
  {
   "cell_type": "markdown",
   "metadata": {},
   "source": [
    "The `rm` command is used to remove files and directories in Linux. It's a powerful tool, but it can be dangerous if used incorrectly.\n",
    "```bash\n",
    "rm [options] file(s)\n",
    "```\n"
   ]
  },
  {
   "cell_type": "markdown",
   "metadata": {},
   "source": [
    "Common options for `rm` include:\n",
    "- `-r` or `-R`: Recursive removal (for directories)\n",
    "- `-f`: Force removal without prompting\n",
    "- `-i`: Interactive mode (prompts before every removal)\n",
    "- `-v`: Verbose mode (explains what is being done)\n"
   ]
  },
  {
   "cell_type": "markdown",
   "metadata": {},
   "source": [
    "Here are some examples of `rm` usage:\n",
    "1. Remove a single file:\n",
    "   ```bash\n",
    "   rm file.txt\n",
    "   ```\n",
    "\n",
    "2. Remove multiple files:\n",
    "   ```bash\n",
    "   rm file1.txt file2.txt file3.txt\n",
    "   ```\n",
    "\n",
    "3. Remove a directory and its contents:\n",
    "   ```bash\n",
    "   rm -r directory_name/\n",
    "   ```\n",
    "\n",
    "4. Force remove without prompting:\n",
    "   ```bash\n",
    "   rm -f sensitive_file.txt\n",
    "   ```\n",
    "\n",
    "5. Remove with confirmation for each file:\n",
    "   ```bash\n",
    "   rm -i *.txt\n",
    "   ```\n"
   ]
  },
  {
   "cell_type": "markdown",
   "metadata": {},
   "source": [
    "### <a id='toc3_2_'></a>[The `rmdir` Command](#toc0_)\n"
   ]
  },
  {
   "cell_type": "markdown",
   "metadata": {},
   "source": [
    "The `rmdir` command is used to remove empty directories in Linux. It's safer than `rm` for directories that don't contain any files.\n",
    "```bash\n",
    "rmdir [options] directory(s)\n",
    "```\n"
   ]
  },
  {
   "cell_type": "markdown",
   "metadata": {},
   "source": [
    "Common options for `rmdir` include:\n",
    "- `-p`: Remove parent directories as well\n",
    "- `-v`: Verbose mode\n"
   ]
  },
  {
   "cell_type": "markdown",
   "metadata": {},
   "source": [
    "Here are some examples of `rmdir` usage:\n",
    "1. Remove an empty directory:\n",
    "   ```bash\n",
    "   rmdir empty_folder/\n",
    "   ```\n",
    "\n",
    "2. Remove nested empty directories:\n",
    "   ```bash\n",
    "   rmdir -p parent/child/grandchild/\n",
    "   ```\n"
   ]
  },
  {
   "cell_type": "markdown",
   "metadata": {},
   "source": [
    "### <a id='toc3_3_'></a>[Best Practices and Safety Considerations](#toc0_)\n"
   ]
  },
  {
   "cell_type": "markdown",
   "metadata": {},
   "source": [
    "1. **Use `rm -i` or `rm -I`**: For interactive prompts, especially when using wildcards.\n",
    "2. **Be extremely careful with `rm -rf`**: It can delete entire directory structures without warning.\n",
    "3. **Double-check your command**: Especially when using wildcards or operating in important directories.\n",
    "4. **Use `rmdir` for empty directories**: It's safer as it won't remove non-empty directories.\n",
    "5. **Consider using safer alternatives**: Like `trash-cli` for recoverable deletions.\n"
   ]
  },
  {
   "cell_type": "markdown",
   "metadata": {},
   "source": [
    "### <a id='toc3_4_'></a>[Common Mistakes and Warnings](#toc0_)\n"
   ]
  },
  {
   "cell_type": "markdown",
   "metadata": {},
   "source": [
    "- Accidentally using `rm -rf /` (never do this; it can destroy your entire system)\n",
    "- Removing files or directories unintentionally due to typos or misunderstanding of wildcards\n",
    "- Forgetting to use `-r` when trying to remove non-empty directories with `rm`\n"
   ]
  },
  {
   "cell_type": "markdown",
   "metadata": {},
   "source": [
    "### <a id='toc3_5_'></a>[Practical Exercises](#toc0_)\n"
   ]
  },
  {
   "cell_type": "markdown",
   "metadata": {},
   "source": [
    "1. Create test files and directories:\n",
    "   ```bash\n",
    "   mkdir test_removal\n",
    "   touch test_removal/file1.txt test_removal/file2.txt\n",
    "   mkdir test_removal/empty_dir\n",
    "   ```\n",
    "\n",
    "2. Try to remove the empty directory:\n",
    "   ```bash\n",
    "   rmdir test_removal/empty_dir\n",
    "   ```\n",
    "\n",
    "3. Attempt to remove the non-empty `test_removal` directory with `rmdir`:\n",
    "   ```bash\n",
    "   rmdir test_removal\n",
    "   ```\n",
    "   (This will fail because the directory is not empty)\n",
    "\n",
    "4. Remove a file interactively:\n",
    "   ```bash\n",
    "   rm -i test_removal/file1.txt\n",
    "   ```\n",
    "\n",
    "5. Remove the entire test directory structure:\n",
    "   ```bash\n",
    "   rm -ri test_removal\n",
    "   ```\n",
    "\n",
    "6. Create and remove nested empty directories:\n",
    "   ```bash\n",
    "   mkdir -p nested/directories/structure\n",
    "   rmdir -pv nested/directories/structure\n",
    "   ```\n"
   ]
  },
  {
   "cell_type": "markdown",
   "metadata": {},
   "source": [
    "Both `rm` and `rmdir` are powerful commands for managing your file system. `rm` is versatile but potentially dangerous, especially with the `-rf` option. `rmdir` is safer but limited to empty directories. Always use these commands with caution, double-check your targets, and consider using interactive modes or safer alternatives for critical operations."
   ]
  },
  {
   "cell_type": "markdown",
   "metadata": {},
   "source": [
    "## <a id='toc4_'></a>[Copying Files and Directories: `cp`](#toc0_)"
   ]
  },
  {
   "cell_type": "markdown",
   "metadata": {},
   "source": [
    "The `cp` command is used to copy files and directories in Linux. It's a fundamental command for duplicating data and creating backups.\n",
    "\n",
    "```bash\n",
    "cp [options] source destination\n",
    "```\n"
   ]
  },
  {
   "cell_type": "markdown",
   "metadata": {},
   "source": [
    "To copy a single file:\n",
    "\n",
    "```bash\n",
    "cp file.txt copy_of_file.txt\n",
    "```\n",
    "\n",
    "This creates a copy of `file.txt` named `copy_of_file.txt` in the current directory.\n"
   ]
  },
  {
   "cell_type": "markdown",
   "metadata": {},
   "source": [
    "To copy a file to another directory:\n",
    "\n",
    "```bash\n",
    "cp file.txt /path/to/destination/\n",
    "```\n",
    "\n",
    "This copies `file.txt` to the specified destination directory.\n"
   ]
  },
  {
   "cell_type": "markdown",
   "metadata": {},
   "source": [
    "To copy multiple files to a directory:\n",
    "\n",
    "```bash\n",
    "cp file1.txt file2.txt file3.txt destination_directory/\n",
    "```\n"
   ]
  },
  {
   "cell_type": "markdown",
   "metadata": {},
   "source": [
    "To copy a directory and its contents, use the `-r` (recursive) option:\n",
    "\n",
    "```bash\n",
    "cp -r source_directory/ destination_directory/\n",
    "```\n"
   ]
  },
  {
   "cell_type": "markdown",
   "metadata": {},
   "source": [
    "### <a id='toc4_1_'></a>[Useful Options](#toc0_)\n"
   ]
  },
  {
   "cell_type": "markdown",
   "metadata": {},
   "source": [
    "- `-r` or `-R`: Copy directories recursively\n",
    "- `-i`: Interactive mode (prompts before overwrite)\n",
    "- `-v`: Verbose mode (explains what is being done)\n",
    "- `-p`: Preserve file attributes (mode, ownership, timestamps)\n",
    "- `-u`: Update (copy only when the source is newer than the destination)\n"
   ]
  },
  {
   "cell_type": "markdown",
   "metadata": {},
   "source": [
    "### <a id='toc4_2_'></a>[Examples](#toc0_)\n"
   ]
  },
  {
   "cell_type": "markdown",
   "metadata": {},
   "source": [
    "1. Copy with preservation of attributes:\n",
    "   ```bash\n",
    "   cp -p original.txt preserved_copy.txt\n",
    "   ```\n",
    "\n",
    "2. Copy multiple files with verbose output:\n",
    "   ```bash\n",
    "   cp -v *.txt /path/to/destination/\n",
    "   ```\n",
    "\n",
    "3. Copy a directory with its contents:\n",
    "   ```bash\n",
    "   cp -r project_folder/ project_backup/\n",
    "   ```\n",
    "\n",
    "4. Update files only if source is newer:\n",
    "   ```bash\n",
    "   cp -u *.py /path/to/code_directory/\n",
    "   ```\n"
   ]
  },
  {
   "cell_type": "markdown",
   "metadata": {},
   "source": [
    "### <a id='toc4_3_'></a>[Best Practices](#toc0_)\n"
   ]
  },
  {
   "cell_type": "markdown",
   "metadata": {},
   "source": [
    "1. **Use `-i` for Safety**: The interactive mode prevents accidental overwrites.\n",
    "2. **Preserve Attributes**: Use `-p` when you need to maintain file permissions and timestamps.\n",
    "3. **Check Destination**: Always verify the destination path to avoid unintended copies.\n",
    "4. **Use Absolute Paths**: When in doubt, use full paths to avoid confusion.\n"
   ]
  },
  {
   "cell_type": "markdown",
   "metadata": {},
   "source": [
    "### <a id='toc4_4_'></a>[Common Mistakes](#toc0_)\n"
   ]
  },
  {
   "cell_type": "markdown",
   "metadata": {},
   "source": [
    "- Forgetting to use `-r` when copying directories\n",
    "- Overwriting files unintentionally (use `-i` to prevent this)\n",
    "- Copying to the wrong destination due to typos or misunderstanding of relative paths\n"
   ]
  },
  {
   "cell_type": "markdown",
   "metadata": {},
   "source": [
    "### <a id='toc4_5_'></a>[Advanced Usage](#toc0_)\n"
   ]
  },
  {
   "cell_type": "markdown",
   "metadata": {},
   "source": [
    "1. Copying with a backup:\n",
    "   ```bash\n",
    "   cp -b important_file.txt important_file.txt.bak\n",
    "   ```\n",
    "\n",
    "2. Copying and creating parent directories if they don't exist:\n",
    "   ```bash\n",
    "   cp -r --parents src/project/code/ /backup/\n",
    "   ```\n"
   ]
  },
  {
   "cell_type": "markdown",
   "metadata": {},
   "source": [
    "### <a id='toc4_6_'></a>[Practical Exercise](#toc0_)\n"
   ]
  },
  {
   "cell_type": "markdown",
   "metadata": {},
   "source": [
    "1. Create a test directory with some files:\n",
    "   ```bash\n",
    "   mkdir test_cp\n",
    "   touch test_cp/file1.txt test_cp/file2.txt\n",
    "   ```\n",
    "\n",
    "2. Copy these files to a new directory:\n",
    "   ```bash\n",
    "   cp -rv test_cp/ test_cp_backup/\n",
    "   ```\n",
    "\n",
    "3. Create a new file and copy it with preservation of attributes:\n",
    "   ```bash\n",
    "   touch important_data.txt\n",
    "   cp -p important_data.txt important_data_backup.txt\n",
    "   ```\n",
    "\n",
    "4. Use `ls -l` to compare the original and copied files.\n"
   ]
  },
  {
   "cell_type": "markdown",
   "metadata": {},
   "source": [
    "The `cp` command is essential for file management in Linux. Understanding its options and best practices will help you efficiently manage your files and directories while avoiding common pitfalls like unintended overwrites or incomplete copies."
   ]
  },
  {
   "cell_type": "markdown",
   "metadata": {},
   "source": [
    "## <a id='toc5_'></a>[Moving and Renaming Files and Directories: mv](#toc0_)"
   ]
  },
  {
   "cell_type": "markdown",
   "metadata": {},
   "source": [
    "The `mv` command in Linux is used for both moving and renaming files and directories. It's a versatile tool that allows you to reorganize your file system efficiently.\n",
    "\n",
    "```bash\n",
    "mv [options] source destination\n",
    "```\n"
   ]
  },
  {
   "cell_type": "markdown",
   "metadata": {},
   "source": [
    "To rename a file or directory:\n",
    "\n",
    "```bash\n",
    "mv oldname.txt newname.txt\n",
    "```\n",
    "\n",
    "This renames `oldname.txt` to `newname.txt`.\n"
   ]
  },
  {
   "cell_type": "markdown",
   "metadata": {},
   "source": [
    "To move a file to another directory:\n",
    "\n",
    "```bash\n",
    "mv file.txt /path/to/destination/\n",
    "```\n",
    "\n",
    "This moves `file.txt` to the specified destination directory.\n"
   ]
  },
  {
   "cell_type": "markdown",
   "metadata": {},
   "source": [
    "To move multiple files to a directory:\n",
    "\n",
    "```bash\n",
    "mv file1.txt file2.txt file3.txt destination_directory/\n",
    "```\n"
   ]
  },
  {
   "cell_type": "markdown",
   "metadata": {},
   "source": [
    "You can move and rename in one command:\n",
    "\n",
    "```bash\n",
    "mv /path/to/old_file.txt /path/to/new_location/new_name.txt\n",
    "```\n"
   ]
  },
  {
   "cell_type": "markdown",
   "metadata": {},
   "source": [
    "### <a id='toc5_1_'></a>[Useful Options](#toc0_)\n"
   ]
  },
  {
   "cell_type": "markdown",
   "metadata": {},
   "source": [
    "- `-i`: Interactive mode (prompts before overwrite)\n",
    "- `-v`: Verbose mode (explains what is being done)\n",
    "- `-n`: No-clobber mode (doesn't overwrite an existing file)\n",
    "- `-u`: Update (moves only when the source is newer than the destination)\n"
   ]
  },
  {
   "cell_type": "markdown",
   "metadata": {},
   "source": [
    "### <a id='toc5_2_'></a>[Examples](#toc0_)\n"
   ]
  },
  {
   "cell_type": "markdown",
   "metadata": {},
   "source": [
    "1. Move with interactive prompt:\n",
    "   ```bash\n",
    "   mv -i important_file.txt /path/to/archive/\n",
    "   ```\n",
    "\n",
    "2. Move multiple files with verbose output:\n",
    "   ```bash\n",
    "   mv -v *.jpg /path/to/images/\n",
    "   ```\n",
    "\n",
    "3. Rename a directory:\n",
    "   ```bash\n",
    "   mv old_project_name/ new_project_name/\n",
    "   ```\n",
    "\n",
    "4. Move and rename in one command:\n",
    "   ```bash\n",
    "   mv ~/Documents/draft.txt ~/Finished/final_report.txt\n",
    "   ```\n"
   ]
  },
  {
   "cell_type": "markdown",
   "metadata": {},
   "source": [
    "### <a id='toc5_3_'></a>[Best Practices](#toc0_)\n"
   ]
  },
  {
   "cell_type": "markdown",
   "metadata": {},
   "source": [
    "1. **Use `-i` for Safety**: This prevents accidental overwrites.\n",
    "2. **Double-check Paths**: Ensure source and destination paths are correct.\n",
    "3. **Be Careful with Wildcards**: Make sure you're moving only intended files.\n",
    "4. **Consider Using Absolute Paths**: This can prevent errors due to your current working directory.\n"
   ]
  },
  {
   "cell_type": "markdown",
   "metadata": {},
   "source": [
    "### <a id='toc5_4_'></a>[Common Mistakes](#toc0_)\n"
   ]
  },
  {
   "cell_type": "markdown",
   "metadata": {},
   "source": [
    "- Accidentally overwriting files (use `-i` to prevent this)\n",
    "- Moving a file into itself (results in losing the file)\n",
    "- Misunderstanding the destination (moving instead of renaming or vice versa)\n"
   ]
  },
  {
   "cell_type": "markdown",
   "metadata": {},
   "source": [
    "### <a id='toc5_5_'></a>[Advanced Usage](#toc0_)\n"
   ]
  },
  {
   "cell_type": "markdown",
   "metadata": {
    "vscode": {
     "languageId": "plaintext"
    }
   },
   "source": [
    "# fix here: mv *{.txt,.doc} does not work"
   ]
  },
  {
   "cell_type": "markdown",
   "metadata": {},
   "source": [
    "1. Moving files that match a pattern:\n",
    "   ```bash\n",
    "   mv *{.txt,.doc} /path/to/documents/\n",
    "   ```\n",
    "\n",
    "2. Using `mv` with find command:\n",
    "   ```bash\n",
    "   find . -name \"*.log\" -exec mv {} /path/to/logs/ \\;\n",
    "   ```\n"
   ]
  },
  {
   "cell_type": "markdown",
   "metadata": {},
   "source": [
    "### <a id='toc5_6_'></a>[Practical Exercise](#toc0_)\n"
   ]
  },
  {
   "cell_type": "markdown",
   "metadata": {},
   "source": [
    "1. Create test files and directories:\n",
    "   ```bash\n",
    "   mkdir old_folder new_folder\n",
    "   touch old_folder/file1.txt old_folder/file2.txt\n",
    "   ```\n",
    "\n",
    "2. Move files from one directory to another:\n",
    "   ```bash\n",
    "   mv old_folder/*.txt new_folder/\n",
    "   ```\n",
    "\n",
    "3. Rename a file:\n",
    "   ```bash\n",
    "   mv new_folder/file1.txt new_folder/renamed_file.txt\n",
    "   ```\n",
    "\n",
    "4. Move and rename a directory:\n",
    "   ```bash\n",
    "   mv old_folder/ archive_2023/\n",
    "   ```\n",
    "\n",
    "5. Use `ls` to verify the changes after each step.\n"
   ]
  },
  {
   "cell_type": "markdown",
   "metadata": {},
   "source": [
    "The `mv` command is crucial for file organization in Linux. It's simple yet powerful, allowing you to efficiently reorganize your file system. Remember to use it carefully, especially when dealing with important files, and always double-check your commands before executing them."
   ]
  },
  {
   "cell_type": "markdown",
   "metadata": {},
   "source": [
    "## <a id='toc6_'></a>[Working with Multiple Files: Wildcards and Patterns](#toc0_)"
   ]
  },
  {
   "cell_type": "markdown",
   "metadata": {},
   "source": [
    "Wildcards and patterns in Linux are powerful tools that allow you to work with multiple files efficiently. They're especially useful when you need to perform operations on groups of files that share similar characteristics.\n"
   ]
  },
  {
   "cell_type": "markdown",
   "metadata": {},
   "source": [
    "The most common wildcards in Linux are:\n",
    "1. **`*` (Asterisk)**: Matches any number of characters\n",
    "2. **`?` (Question Mark)**: Matches any single character\n",
    "3. **`[]` (Square Brackets)**: Matches any one of the enclosed characters\n"
   ]
  },
  {
   "cell_type": "markdown",
   "metadata": {},
   "source": [
    "### <a id='toc6_1_'></a>[Basic Usage](#toc0_)\n"
   ]
  },
  {
   "cell_type": "markdown",
   "metadata": {},
   "source": [
    "#### <a id='toc6_1_1_'></a>[The `*` Wildcard](#toc0_)\n"
   ]
  },
  {
   "cell_type": "markdown",
   "metadata": {},
   "source": [
    "- Match all files in the current directory:\n",
    "  ```bash\n",
    "  ls *\n",
    "  ```\n",
    "\n",
    "- Match all .txt files:\n",
    "  ```bash\n",
    "  ls *.txt\n",
    "  ```\n",
    "\n",
    "- Match files starting with \"log\":\n",
    "  ```bash\n",
    "  ls log*\n",
    "  ```\n"
   ]
  },
  {
   "cell_type": "markdown",
   "metadata": {},
   "source": [
    "#### <a id='toc6_1_2_'></a>[The `?` Wildcard](#toc0_)\n"
   ]
  },
  {
   "cell_type": "markdown",
   "metadata": {},
   "source": [
    "- Match files with a single character after \"file\":\n",
    "  ```bash\n",
    "  ls file?.txt\n",
    "  ```\n"
   ]
  },
  {
   "cell_type": "markdown",
   "metadata": {},
   "source": [
    "#### <a id='toc6_1_3_'></a>[The `[]` Wildcard](#toc0_)  [&#8593;](#toc0_)\n"
   ]
  },
  {
   "cell_type": "markdown",
   "metadata": {},
   "source": [
    "- Match files starting with either a, b, or c:\n",
    "  ```bash\n",
    "  ls [abc]*\n",
    "  ```\n",
    "\n",
    "- Match files ending with a number:\n",
    "  ```bash\n",
    "  ls *[0-9]\n",
    "  ```\n"
   ]
  },
  {
   "cell_type": "markdown",
   "metadata": {},
   "source": [
    "### <a id='toc6_2_'></a>[Advanced Patterns](#toc0_)\n"
   ]
  },
  {
   "cell_type": "markdown",
   "metadata": {},
   "source": [
    "1. **`[!...]`**: Matches any character not in the brackets\n",
    "2. **`{...}`**: Matches any of the comma-separated patterns\n"
   ]
  },
  {
   "cell_type": "markdown",
   "metadata": {},
   "source": [
    "Examples:\n",
    "- Files not starting with a vowel:\n",
    "  ```bash\n",
    "  ls [!aeiou]*\n",
    "  ```\n",
    "\n",
    "- Match multiple specific patterns:\n",
    "  ```bash\n",
    "  ls {*.txt,*.doc}\n",
    "  ```\n"
   ]
  },
  {
   "cell_type": "markdown",
   "metadata": {},
   "source": [
    "### <a id='toc6_3_'></a>[Combining Wildcards](#toc0_)\n"
   ]
  },
  {
   "cell_type": "markdown",
   "metadata": {},
   "source": [
    "You can combine wildcards for more complex patterns:\n",
    "\n",
    "- Files starting with \"log\", followed by a number, and ending with \".txt\":\n",
    "  ```bash\n",
    "  ls log[0-9]*.txt\n",
    "  ```\n"
   ]
  },
  {
   "cell_type": "markdown",
   "metadata": {},
   "source": [
    "### <a id='toc6_4_'></a>[Practical Applications](#toc0_)\n"
   ]
  },
  {
   "cell_type": "markdown",
   "metadata": {},
   "source": [
    "1. **Copying multiple files**:\n",
    "   ```bash\n",
    "   cp *.jpg /path/to/photos/\n",
    "   ```\n",
    "\n",
    "2. **Removing all files of certain types**:\n",
    "   ```bash\n",
    "   rm *.{tmp,bak}\n",
    "   ```\n",
    "\n",
    "3. **Moving files with a pattern**:\n",
    "   ```bash\n",
    "   mv log_2023* /path/to/2023_logs/\n",
    "   ```\n",
    "\n",
    "4. **Searching in multiple files**:\n",
    "   ```bash\n",
    "   grep \"error\" *.log\n",
    "   ```\n"
   ]
  },
  {
   "cell_type": "markdown",
   "metadata": {},
   "source": [
    "### <a id='toc6_5_'></a>[Best Practices and Tips](#toc0_)\n"
   ]
  },
  {
   "cell_type": "markdown",
   "metadata": {},
   "source": [
    "1. **Test First**: Use `ls` with your pattern before performing operations like `rm` or `mv`.\n",
    "2. **Quote Patterns**: Use quotes around patterns to prevent shell expansion when necessary.\n",
    "3. **Be Specific**: Use more specific patterns to avoid unintended matches.\n",
    "4. **Understand Your Current Directory**: Be aware of your working directory when using wildcards.\n"
   ]
  },
  {
   "cell_type": "markdown",
   "metadata": {},
   "source": [
    "### <a id='toc6_6_'></a>[Common Mistakes](#toc0_)\n"
   ]
  },
  {
   "cell_type": "markdown",
   "metadata": {},
   "source": [
    "- Using `rm *` carelessly (it removes all files in the current directory)\n",
    "- Forgetting to escape special characters when needed\n",
    "- Assuming `?` matches any number of characters (it only matches one)\n"
   ]
  },
  {
   "cell_type": "markdown",
   "metadata": {},
   "source": [
    "### <a id='toc6_7_'></a>[Practical Exercises](#toc0_)\n"
   ]
  },
  {
   "cell_type": "markdown",
   "metadata": {},
   "source": [
    "1. Create test files:\n",
    "   ```bash\n",
    "   touch file1.txt file2.txt document1.doc document2.doc log_2023.log log_2024.log\n",
    "   ```\n",
    "\n",
    "2. List all .txt and .doc files:\n",
    "   ```bash\n",
    "   ls *.txt *.doc\n",
    "   ```\n",
    "\n",
    "3. List all files starting with \"file\" followed by a single character:\n",
    "   ```bash\n",
    "   ls file?.* \n",
    "   ```\n",
    "\n",
    "4. Move all log files to a new directory:\n",
    "   ```bash\n",
    "   mkdir logs\n",
    "   mv log_*.log logs/\n",
    "   ```\n",
    "\n",
    "5. Remove all .txt files:\n",
    "   ```bash\n",
    "   rm *.txt\n",
    "   ```\n",
    "\n",
    "6. List files that don't start with \"document\":\n",
    "   ```bash\n",
    "   ls [!d]*\n",
    "   ```\n"
   ]
  },
  {
   "cell_type": "markdown",
   "metadata": {},
   "source": [
    "Wildcards and patterns are essential tools for efficient file management in Linux. They allow you to perform operations on multiple files quickly and can significantly speed up your workflow. However, always use them carefully, especially with commands that modify or delete files. Practice and familiarity with these patterns will make you much more efficient in navigating and managing files in the Linux environment."
   ]
  },
  {
   "cell_type": "markdown",
   "metadata": {},
   "source": [
    "## <a id='toc7_'></a>[Viewing File and Directory Information: `file` and `stat`](#toc0_)"
   ]
  },
  {
   "cell_type": "markdown",
   "metadata": {},
   "source": [
    "The `file` and `stat` commands in Linux provide detailed information about files and directories. While `file` focuses on determining the type of a file, `stat` offers comprehensive metadata about files and file systems.\n"
   ]
  },
  {
   "cell_type": "markdown",
   "metadata": {},
   "source": [
    "### <a id='toc7_1_'></a>[The `file` Command](#toc0_)"
   ]
  },
  {
   "cell_type": "markdown",
   "metadata": {},
   "source": [
    "`file` is used to determine the type of a file based on its content, not just its extension.\n",
    "```bash\n",
    "file [options] filename(s)\n",
    "```\n"
   ]
  },
  {
   "cell_type": "markdown",
   "metadata": {},
   "source": [
    "Common options for `file` include:\n",
    "- `-b`: Brief mode (doesn't prepend filenames to output)\n",
    "- `-i`: Output MIME type strings\n",
    "- `-z`: Look inside compressed files\n"
   ]
  },
  {
   "cell_type": "markdown",
   "metadata": {},
   "source": [
    "#### <a id='toc7_1_1_'></a>[Examples](#toc0_)\n"
   ]
  },
  {
   "cell_type": "markdown",
   "metadata": {},
   "source": [
    "1. Basic usage:\n",
    "   ```bash\n",
    "   file document.txt\n",
    "   ```\n",
    "   Output: `document.txt: ASCII text`\n",
    "\n",
    "2. Checking multiple files:\n",
    "   ```bash\n",
    "   file *\n",
    "   ```\n",
    "\n",
    "3. Getting MIME type:\n",
    "   ```bash\n",
    "   file -i image.jpg\n",
    "   ```\n",
    "   Output: `image.jpg: image/jpeg; charset=binary`\n",
    "\n",
    "4. Looking inside a compressed file:\n",
    "   ```bash\n",
    "   file -z archive.tar.gz\n",
    "   ```\n"
   ]
  },
  {
   "cell_type": "markdown",
   "metadata": {},
   "source": [
    "### <a id='toc7_2_'></a>[The `stat` Command](#toc0_)\n"
   ]
  },
  {
   "cell_type": "markdown",
   "metadata": {},
   "source": [
    "`stat` displays detailed information about file or file system status.\n",
    "\n",
    "```bash\n",
    "stat [options] file(s)\n",
    "```\n"
   ]
  },
  {
   "cell_type": "markdown",
   "metadata": {},
   "source": [
    "Common options for `stat` include:\n",
    "- `-f`: Display file system status instead of file status\n",
    "- `-t`: Print the information in terse form\n",
    "- `-c`: Use a custom format\n"
   ]
  },
  {
   "cell_type": "markdown",
   "metadata": {},
   "source": [
    "#### <a id='toc7_2_1_'></a>[Examples](#toc0_)\n"
   ]
  },
  {
   "cell_type": "markdown",
   "metadata": {},
   "source": [
    "1. Basic usage:\n",
    "   ```bash\n",
    "   stat document.txt\n",
    "   ```\n",
    "   Output includes size, blocks, IO Block, file type, device, inode, links, access, modify, and change times, etc.\n",
    "\n",
    "2. Custom format (file size and modification time):\n",
    "   ```bash\n",
    "   stat -c \"Size: %s bytes, Last modified: %y\" document.txt\n",
    "   ```\n",
    "\n",
    "3. File system information:\n",
    "   ```bash\n",
    "   stat -f /home\n",
    "   ```\n",
    "\n",
    "4. Terse output:\n",
    "   ```bash\n",
    "   stat -t document.txt\n",
    "   ```\n"
   ]
  },
  {
   "cell_type": "markdown",
   "metadata": {},
   "source": [
    "### <a id='toc7_3_'></a>[Practical Applications](#toc0_)\n"
   ]
  },
  {
   "cell_type": "markdown",
   "metadata": {},
   "source": [
    "1. **Identifying file types**:\n",
    "   Useful when file extensions are missing or misleading.\n",
    "   ```bash\n",
    "   file unknown_file\n",
    "   ```\n",
    "\n",
    "2. **Checking last modification time**:\n",
    "   Important for tracking changes or troubleshooting.\n",
    "   ```bash\n",
    "   stat -c %y document.txt\n",
    "   ```\n",
    "\n",
    "3. **Verifying file permissions**:\n",
    "   Quick way to check access rights.\n",
    "   ```bash\n",
    "   stat -c %A document.txt\n",
    "   ```\n",
    "\n",
    "4. **Checking file system usage**:\n",
    "   Useful for system administration.\n",
    "   ```bash\n",
    "   stat -f -c \"Used: %b blocks out of %c\" /home\n",
    "   ```\n"
   ]
  },
  {
   "cell_type": "markdown",
   "metadata": {},
   "source": [
    "### <a id='toc7_4_'></a>[Best Practices and Tips](#toc0_)\n"
   ]
  },
  {
   "cell_type": "markdown",
   "metadata": {},
   "source": [
    "1. Use `file` before opening unknown files to avoid potential issues.\n",
    "2. Combine `stat` with other commands in scripts for file management tasks.\n",
    "3. Use `stat` with custom formats for specific information extraction.\n",
    "4. Remember that `file` can sometimes misidentify files, especially with custom or complex formats.\n"
   ]
  },
  {
   "cell_type": "markdown",
   "metadata": {},
   "source": [
    "### <a id='toc7_5_'></a>[Practical Exercises](#toc0_)\n"
   ]
  },
  {
   "cell_type": "markdown",
   "metadata": {},
   "source": [
    "1. Create different types of files:\n",
    "   ```bash\n",
    "   echo \"Hello\" > text_file.txt\n",
    "   touch empty_file\n",
    "   ln -s text_file.txt symlink_file\n",
    "   ```\n",
    "\n",
    "2. Use `file` on each:\n",
    "   ```bash\n",
    "   file text_file.txt empty_file symlink_file\n",
    "   ```\n",
    "\n",
    "3. Check detailed information with `stat`:\n",
    "   ```bash\n",
    "   stat text_file.txt\n",
    "   ```\n",
    "\n",
    "4. Check detailed information in verbose mode:\n",
    "   ```bash\n",
    "   stat -x text_file.txt\n",
    "   ```"
   ]
  },
  {
   "cell_type": "markdown",
   "metadata": {},
   "source": [
    "The `file` and `stat` commands are invaluable tools for gathering information about files and file systems in Linux. `file` helps in identifying file types regardless of their extensions, which is crucial for security and proper file handling. `stat` provides a wealth of metadata, useful for everything from basic file management to advanced system administration tasks. Mastering these commands will significantly enhance your ability to work with and understand the files and file systems on a Linux system."
   ]
  },
  {
   "cell_type": "markdown",
   "metadata": {},
   "source": [
    "## <a id='toc8_'></a>[Summary and Review](#toc0_)"
   ]
  },
  {
   "cell_type": "markdown",
   "metadata": {},
   "source": [
    "In this lecture, we've covered fundamental commands for managing files and directories in Linux:\n",
    "\n",
    "1. **Creating Directories (`mkdir`)**: \n",
    "   - Basic syntax: `mkdir directory_name`\n",
    "   - Key option: `-p` for nested directories\n",
    "\n",
    "2. **Removing Directories (`rmdir`)**: \n",
    "   - Only removes empty directories\n",
    "   - Use `rmdir -p` for nested empty directories\n",
    "\n",
    "3. **Creating Files (`touch`)**: \n",
    "   - Creates empty files or updates timestamps\n",
    "   - Syntax: `touch filename`\n",
    "\n",
    "4. **Copying Files and Directories (`cp`)**: \n",
    "   - Basic syntax: `cp source destination`\n",
    "   - Key option: `-r` for recursive copying of directories\n",
    "\n",
    "5. **Moving and Renaming (`mv`)**: \n",
    "   - Used for both moving and renaming\n",
    "   - Syntax: `mv old_name new_name` or `mv source destination`\n",
    "\n",
    "6. **Removing Files (`rm`)**: \n",
    "   - Permanently deletes files\n",
    "   - Use `-r` for directories, `-f` to force, `-i` for interactive mode\n",
    "\n",
    "7. **Wildcards and Patterns**: \n",
    "   - `*` (any characters), `?` (single character), `[]` (character range)\n",
    "   - Powerful for batch operations\n",
    "\n",
    "8. **File Information (`file` and `stat`)**: \n",
    "   - `file`: Determines file type\n",
    "   - `stat`: Displays detailed file or filesystem information\n"
   ]
  },
  {
   "cell_type": "markdown",
   "metadata": {},
   "source": [
    "Key Takeaways:\n",
    "- Always double-check before using destructive commands like `rm`.\n",
    "- Use options like `-i` for added safety.\n",
    "- Wildcards are powerful but should be used carefully.\n",
    "- `file` and `stat` provide valuable insights into files and filesystems.\n"
   ]
  },
  {
   "cell_type": "markdown",
   "metadata": {},
   "source": [
    "Practice these commands regularly to become proficient in Linux file management."
   ]
  }
 ],
 "metadata": {
  "language_info": {
   "name": "python"
  }
 },
 "nbformat": 4,
 "nbformat_minor": 2
}
