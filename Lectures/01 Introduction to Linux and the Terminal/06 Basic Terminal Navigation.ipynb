{
 "cells": [
  {
   "cell_type": "markdown",
   "metadata": {},
   "source": [
    "<img src=\"./images/banner.png\" width=\"800\">"
   ]
  },
  {
   "cell_type": "markdown",
   "metadata": {},
   "source": [
    "# Basic Terminal Navigation"
   ]
  },
  {
   "cell_type": "markdown",
   "metadata": {},
   "source": [
    "Welcome to our lecture on Basic Terminal Navigation! This session marks your first steps into the powerful world of the Linux command line interface.\n"
   ]
  },
  {
   "cell_type": "markdown",
   "metadata": {},
   "source": [
    "In this lecture, we'll focus on the fundamental skills you need to navigate through the Linux file system using the terminal. These skills are essential for any Linux user, whether you're a beginner or looking to refresh your knowledge.\n"
   ]
  },
  {
   "cell_type": "markdown",
   "metadata": {},
   "source": [
    "**Why is terminal navigation important?**\n",
    "\n",
    "1. **Efficiency**: Once mastered, navigating via the terminal is often faster than using a graphical interface.\n",
    "2. **Remote Access**: When working with remote servers, the terminal is often your only means of interaction.\n",
    "3. **Scripting and Automation**: Understanding navigation is crucial for writing scripts and automating tasks.\n",
    "4. **Foundation for Advanced Skills**: Many advanced Linux operations build upon these basic navigation skills.\n"
   ]
  },
  {
   "cell_type": "markdown",
   "metadata": {},
   "source": [
    "**What we'll cover:**\n",
    "\n",
    "- Understanding the command prompt\n",
    "- Viewing your current location with `pwd`\n",
    "- Listing directory contents with `ls`\n",
    "- Changing directories with `cd`\n",
    "- Understanding file system paths\n",
    "- Navigating the Linux file system hierarchy\n",
    "- Using command history for efficient navigation\n",
    "\n",
    "By the end of this lecture, you'll be comfortable moving around the Linux file system using command-line tools. This knowledge will serve as a solid foundation as we progress to more advanced terminal operations in future sessions.\n"
   ]
  },
  {
   "cell_type": "markdown",
   "metadata": {},
   "source": [
    "Remember, practice is key! Don't worry if it feels a bit awkward at first – with time and use, these commands will become second nature.\n"
   ]
  },
  {
   "cell_type": "markdown",
   "metadata": {},
   "source": [
    "Let's begin our journey into the heart of Linux navigation!"
   ]
  },
  {
   "cell_type": "markdown",
   "metadata": {},
   "source": [
    "**Table of contents**<a id='toc0_'></a>    \n",
    "- [The Command Prompt](#toc1_)    \n",
    "  - [Variations](#toc1_1_)    \n",
    "  - [Customizing the Prompt](#toc1_2_)    \n",
    "  - [Practical Tip](#toc1_3_)    \n",
    "- [Print Working Directory (pwd)](#toc2_)    \n",
    "  - [Output Interpretation](#toc2_1_)    \n",
    "  - [Why Use pwd?](#toc2_2_)    \n",
    "  - [Practical Examples](#toc2_3_)    \n",
    "- [Listing Directory Contents (ls)](#toc3_)    \n",
    "  - [Common Options](#toc3_1_)    \n",
    "  - [Reading the Output](#toc3_2_)    \n",
    "  - [Practical Examples](#toc3_3_)    \n",
    "  - [Tips](#toc3_4_)    \n",
    "  - [Exercise](#toc3_5_)    \n",
    "- [Changing Directories (cd)](#toc4_)    \n",
    "  - [Common cd Commands](#toc4_1_)    \n",
    "  - [Practical Examples](#toc4_2_)    \n",
    "  - [Tips and Tricks](#toc4_3_)    \n",
    "  - [Common Mistakes](#toc4_4_)    \n",
    "  - [Exercise](#toc4_5_)    \n",
    "- [Understanding Paths](#toc5_)    \n",
    "    - [Absolute Paths](#toc5_1_1_)    \n",
    "    - [Relative Paths](#toc5_1_2_)    \n",
    "  - [Special Path References](#toc5_2_)    \n",
    "  - [Practical Examples](#toc5_3_)    \n",
    "  - [Exercise](#toc5_4_)    \n",
    "- [Command History for Navigation](#toc6_)    \n",
    "  - [Key Shortcuts for History Navigation](#toc6_1_)    \n",
    "  - [Practical Examples](#toc6_2_)    \n",
    "  - [Customizing History Behavior](#toc6_3_)    \n",
    "  - [Tips for Effective History Usage](#toc6_4_)    \n",
    "  - [Exercise](#toc6_5_)    \n",
    "\n",
    "<!-- vscode-jupyter-toc-config\n",
    "\tnumbering=false\n",
    "\tanchor=true\n",
    "\tflat=false\n",
    "\tminLevel=2\n",
    "\tmaxLevel=6\n",
    "\t/vscode-jupyter-toc-config -->\n",
    "<!-- THIS CELL WILL BE REPLACED ON TOC UPDATE. DO NOT WRITE YOUR TEXT IN THIS CELL -->"
   ]
  },
  {
   "cell_type": "markdown",
   "metadata": {},
   "source": [
    "## <a id='toc1_'></a>[The Command Prompt](#toc0_)"
   ]
  },
  {
   "cell_type": "markdown",
   "metadata": {},
   "source": [
    "The command prompt is your starting point for interacting with the Linux system through the terminal. Understanding its structure can provide valuable information at a glance.\n"
   ]
  },
  {
   "cell_type": "markdown",
   "metadata": {},
   "source": [
    "A typical command prompt might look like this:\n",
    "\n",
    "```\n",
    "username@hostname:~$\n",
    "```\n"
   ]
  },
  {
   "cell_type": "markdown",
   "metadata": {},
   "source": [
    "Let's break down each component:\n",
    "\n",
    "- **username**: This is your current user account name.\n",
    "- **@**: Separates the username from the hostname.\n",
    "- **hostname**: The name of the computer you're using.\n",
    "- **:**: Separates the hostname from the current directory.\n",
    "- **~**: Represents your current directory (in this case, the home directory).\n",
    "- **$**: Indicates you're logged in as a regular user.\n"
   ]
  },
  {
   "cell_type": "markdown",
   "metadata": {},
   "source": [
    "> **Note**: If you see a `#` instead of `$`, it means you're logged in as the root user (the superuser with full system privileges).\n"
   ]
  },
  {
   "cell_type": "markdown",
   "metadata": {},
   "source": [
    "### <a id='toc1_1_'></a>[Variations](#toc0_)\n"
   ]
  },
  {
   "cell_type": "markdown",
   "metadata": {},
   "source": [
    "The prompt can vary depending on the Linux distribution and shell configuration. Some common variations include:\n",
    "\n",
    "- Showing the current directory path:\n",
    "  ```\n",
    "  username@hostname:/home/username$\n",
    "  ```\n",
    "\n",
    "- Displaying the current time:\n",
    "  ```\n",
    "  [14:30] username@hostname:~$\n",
    "  ```\n",
    "\n",
    "- Indicating the exit status of the last command:\n",
    "  ```\n",
    "  username@hostname:~[0]$\n",
    "  ```\n"
   ]
  },
  {
   "cell_type": "markdown",
   "metadata": {},
   "source": [
    "### <a id='toc1_2_'></a>[Customizing the Prompt](#toc0_)\n"
   ]
  },
  {
   "cell_type": "markdown",
   "metadata": {},
   "source": [
    "While we won't dive into customization now, it's worth noting that the prompt is highly customizable. You can modify it to show information like:\n",
    "\n",
    "- Git branch (for version control)\n",
    "- Python virtual environment\n",
    "- Current working directory\n",
    "- And much more!\n"
   ]
  },
  {
   "cell_type": "markdown",
   "metadata": {},
   "source": [
    "### <a id='toc1_3_'></a>[Practical Tip](#toc0_)\n"
   ]
  },
  {
   "cell_type": "markdown",
   "metadata": {},
   "source": [
    "Pay attention to your prompt! It can tell you:\n",
    "\n",
    "1. Which user account you're using\n",
    "2. Which machine you're logged into (crucial when working with multiple servers)\n",
    "3. Your current location in the file system\n"
   ]
  },
  {
   "cell_type": "markdown",
   "metadata": {},
   "source": [
    "Understanding the command prompt is your first step in becoming proficient with the Linux terminal. As we progress, you'll see how this information helps you navigate and manage your Linux system more effectively."
   ]
  },
  {
   "cell_type": "markdown",
   "metadata": {},
   "source": [
    "## <a id='toc2_'></a>[Print Working Directory (pwd)](#toc0_)\n"
   ]
  },
  {
   "cell_type": "markdown",
   "metadata": {},
   "source": [
    "The `pwd` command, which stands for \"Print Working Directory,\" is one of the most fundamental commands in Linux navigation. It tells you exactly where you are in the file system.\n"
   ]
  },
  {
   "cell_type": "markdown",
   "metadata": {},
   "source": [
    "To use `pwd`, simply type it at the command prompt and press Enter:\n",
    "\n",
    "```bash\n",
    "pwd\n",
    "```\n"
   ]
  },
  {
   "cell_type": "markdown",
   "metadata": {},
   "source": [
    "### <a id='toc2_1_'></a>[Output Interpretation](#toc0_)\n"
   ]
  },
  {
   "cell_type": "markdown",
   "metadata": {},
   "source": [
    "The output of `pwd` will be an absolute path, starting from the root directory. For example:\n"
   ]
  },
  {
   "cell_type": "markdown",
   "metadata": {},
   "source": [
    "```\n",
    "/home/username/documents\n",
    "```\n"
   ]
  },
  {
   "cell_type": "markdown",
   "metadata": {},
   "source": [
    "This tells you that:\n",
    "- You're in a directory called \"documents\"\n",
    "- Which is inside the \"username\" directory\n",
    "- Which is inside the \"home\" directory\n",
    "- And \"home\" is directly under the root directory (/)\n"
   ]
  },
  {
   "cell_type": "markdown",
   "metadata": {},
   "source": [
    "### <a id='toc2_2_'></a>[Why Use pwd?](#toc0_)\n"
   ]
  },
  {
   "cell_type": "markdown",
   "metadata": {},
   "source": [
    "1. **Orientation**: It's easy to get lost in the file system, especially when using `cd` frequently. `pwd` helps you regain your bearings.\n",
    "\n",
    "2. **Scripting**: In shell scripts, `pwd` is often used to determine the script's location or to construct absolute paths.\n",
    "\n",
    "3. **Verification**: Use it to confirm you're in the expected directory before executing important commands.\n"
   ]
  },
  {
   "cell_type": "markdown",
   "metadata": {},
   "source": [
    "### <a id='toc2_3_'></a>[Practical Examples](#toc0_)\n"
   ]
  },
  {
   "cell_type": "markdown",
   "metadata": {},
   "source": [
    "1. Checking your location after login:\n",
    "   ```bash\n",
    "   $ pwd\n",
    "   /home/username\n",
    "   ```\n"
   ]
  },
  {
   "cell_type": "markdown",
   "metadata": {},
   "source": [
    "2. Verifying your location after changing directories:\n",
    "   ```bash\n",
    "   $ cd /var/log\n",
    "   $ pwd\n",
    "   /var/log\n",
    "   ```\n"
   ]
  },
  {
   "cell_type": "markdown",
   "metadata": {},
   "source": [
    "3. Using `pwd` in a command:\n",
    "   ```bash\n",
    "   $ echo \"I am in $(pwd)\"\n",
    "   I am in /home/username/documents\n",
    "   ```\n"
   ]
  },
  {
   "cell_type": "markdown",
   "metadata": {},
   "source": [
    "Try the following:\n",
    "1. Open your terminal\n",
    "2. Type `pwd` and note your starting location\n",
    "3. Change to another directory using `cd`\n",
    "4. Use `pwd` again to confirm your new location"
   ]
  },
  {
   "cell_type": "markdown",
   "metadata": {},
   "source": [
    "Understanding and regularly using `pwd` is crucial for maintaining awareness of your location within the Linux file system. As you become more comfortable with terminal navigation, you'll find yourself using `pwd` frequently to orient yourself and ensure you're in the right place before executing commands."
   ]
  },
  {
   "cell_type": "markdown",
   "metadata": {},
   "source": [
    "## <a id='toc3_'></a>[Listing Directory Contents (ls)](#toc0_)"
   ]
  },
  {
   "cell_type": "markdown",
   "metadata": {},
   "source": [
    "The `ls` command is used to list directory contents. It's one of the most frequently used commands in Linux, providing information about files and directories.\n"
   ]
  },
  {
   "cell_type": "markdown",
   "metadata": {},
   "source": [
    "To list the contents of the current directory, simply type:\n",
    "\n",
    "```bash\n",
    "ls\n",
    "```\n"
   ]
  },
  {
   "cell_type": "markdown",
   "metadata": {},
   "source": [
    "### <a id='toc3_1_'></a>[Common Options](#toc0_)\n"
   ]
  },
  {
   "cell_type": "markdown",
   "metadata": {},
   "source": [
    "`ls` has many options. Here are some of the most useful:\n",
    "\n",
    "- `-l`: Long listing format, showing detailed information\n",
    "- `-a`: Show all files, including hidden ones (those starting with a dot)\n",
    "- `-h`: Human-readable file sizes (KB, MB, GB)\n"
   ]
  },
  {
   "cell_type": "markdown",
   "metadata": {},
   "source": [
    "You can combine these options. For example:\n",
    "\n",
    "```bash\n",
    "ls -lah\n",
    "```\n"
   ]
  },
  {
   "cell_type": "markdown",
   "metadata": {},
   "source": [
    "### <a id='toc3_2_'></a>[Reading the Output](#toc0_)\n"
   ]
  },
  {
   "cell_type": "markdown",
   "metadata": {},
   "source": [
    "Let's break down the output of `ls -l`:\n"
   ]
  },
  {
   "cell_type": "markdown",
   "metadata": {},
   "source": [
    "```\n",
    "drwxr-xr-x 2 user group 4096 Jan 1 12:00 Documents\n",
    "-rw-r--r-- 1 user group 1234 Jan 2 14:30 file.txt\n",
    "```\n"
   ]
  },
  {
   "cell_type": "markdown",
   "metadata": {},
   "source": [
    "Each line represents a file or directory:\n",
    "- File type and permissions (e.g., `drwxr-xr-x`)\n",
    "- Number of hard links\n",
    "- Owner name\n",
    "- Group name\n",
    "- File size\n",
    "- Last modification date and time\n",
    "- File or directory name\n"
   ]
  },
  {
   "cell_type": "markdown",
   "metadata": {},
   "source": [
    "### <a id='toc3_3_'></a>[Practical Examples](#toc0_)\n"
   ]
  },
  {
   "cell_type": "markdown",
   "metadata": {},
   "source": [
    "1. List files in the current directory:\n",
    "   ```bash\n",
    "   $ ls\n",
    "   Documents  Downloads  file.txt  Pictures\n",
    "   ```\n"
   ]
  },
  {
   "cell_type": "markdown",
   "metadata": {},
   "source": [
    "2. Detailed list with human-readable sizes:\n",
    "   ```bash\n",
    "   $ ls -lh\n",
    "   total 16K\n",
    "   drwxr-xr-x 2 user group 4.0K Jan 1 12:00 Documents\n",
    "   drwxr-xr-x 2 user group 4.0K Jan 1 12:00 Downloads\n",
    "   -rw-r--r-- 1 user group 1.2K Jan 2 14:30 file.txt\n",
    "   drwxr-xr-x 2 user group 4.0K Jan 1 12:00 Pictures\n",
    "   ```\n"
   ]
  },
  {
   "cell_type": "markdown",
   "metadata": {},
   "source": [
    "3. List all files, including hidden ones:\n",
    "   ```bash\n",
    "   $ ls -a\n",
    "   .  ..  .bashrc  Documents  Downloads  file.txt  Pictures\n",
    "   ```\n"
   ]
  },
  {
   "cell_type": "markdown",
   "metadata": {},
   "source": [
    "4. List contents of another directory:\n",
    "   ```bash\n",
    "   $ ls /etc\n",
    "   apache2  bash.bashrc  hosts  passwd  ...\n",
    "   ```\n"
   ]
  },
  {
   "cell_type": "markdown",
   "metadata": {},
   "source": [
    "### <a id='toc3_4_'></a>[Tips](#toc0_)"
   ]
  },
  {
   "cell_type": "markdown",
   "metadata": {},
   "source": [
    "- Use `ls -R` for a recursive listing of subdirectories.\n",
    "- Color-coding (if enabled) helps distinguish file types: blue for directories, green for executables, etc.\n",
    "- `ls *` lists contents of all subdirectories in the current directory.\n"
   ]
  },
  {
   "cell_type": "markdown",
   "metadata": {},
   "source": [
    "### <a id='toc3_5_'></a>[Exercise](#toc0_)\n",
    "\n",
    "Try these commands and observe the differences:\n",
    "1. `ls`\n",
    "2. `ls -l`\n",
    "3. `ls -a`\n",
    "4. `ls -lah`\n",
    "5. `ls /etc`\n",
    "\n",
    "Understanding how to use `ls` effectively is crucial for navigating and managing files in Linux. As you become more comfortable with it, you'll find it indispensable for quickly gathering information about your file system."
   ]
  },
  {
   "cell_type": "markdown",
   "metadata": {},
   "source": [
    "## <a id='toc4_'></a>[Changing Directories (cd)](#toc0_)"
   ]
  },
  {
   "cell_type": "markdown",
   "metadata": {},
   "source": [
    "The `cd` command, which stands for \"Change Directory,\" is used to navigate between directories in the file system. It's one of the most fundamental commands for moving around in the terminal.\n"
   ]
  },
  {
   "cell_type": "markdown",
   "metadata": {},
   "source": [
    "To change to a specific directory, use:\n",
    "\n",
    "```bash\n",
    "cd directory_name\n",
    "```\n"
   ]
  },
  {
   "cell_type": "markdown",
   "metadata": {},
   "source": [
    "### <a id='toc4_1_'></a>[Common cd Commands](#toc0_)\n"
   ]
  },
  {
   "cell_type": "markdown",
   "metadata": {},
   "source": [
    "1. **Moving to a specific directory**:\n",
    "   ```bash\n",
    "   cd Documents\n",
    "   ```\n",
    "\n",
    "2. **Moving up one level** (to the parent directory):\n",
    "   ```bash\n",
    "   cd ..\n",
    "   ```\n",
    "\n",
    "3. **Moving to the home directory**:\n",
    "   ```bash\n",
    "   cd\n",
    "   ```\n",
    "   or\n",
    "   ```bash\n",
    "   cd ~\n",
    "   ```\n",
    "\n",
    "4. **Moving to the previous directory** (the directory you were in before the current one):\n",
    "   ```bash\n",
    "   cd -\n",
    "   ```\n",
    "\n",
    "5. **Moving to an absolute path**:\n",
    "   ```bash\n",
    "   cd /home/username/Documents\n",
    "   ```\n"
   ]
  },
  {
   "cell_type": "markdown",
   "metadata": {},
   "source": [
    "### <a id='toc4_2_'></a>[Practical Examples](#toc0_)\n"
   ]
  },
  {
   "cell_type": "markdown",
   "metadata": {},
   "source": [
    "1. Navigate to your Documents folder:\n",
    "   ```bash\n",
    "   $ cd Documents\n",
    "   $ pwd\n",
    "   /home/username/Documents\n",
    "   ```\n"
   ]
  },
  {
   "cell_type": "markdown",
   "metadata": {},
   "source": [
    "2. Move up one directory level:\n",
    "   ```bash\n",
    "   $ cd ..\n",
    "   $ pwd\n",
    "   /home/username\n",
    "   ```\n"
   ]
  },
  {
   "cell_type": "markdown",
   "metadata": {},
   "source": [
    "3. Quick switch between two directories:\n",
    "   ```bash\n",
    "   $ cd /var/log\n",
    "   $ cd -\n",
    "   /home/username\n",
    "   $ cd -\n",
    "   /var/log\n",
    "   ```\n"
   ]
  },
  {
   "cell_type": "markdown",
   "metadata": {},
   "source": [
    "4. Combine `cd` with other commands:\n",
    "   ```bash\n",
    "   $ cd Documents && ls\n",
    "   file1.txt  file2.txt  subfolder\n",
    "   ```\n"
   ]
  },
  {
   "cell_type": "markdown",
   "metadata": {},
   "source": [
    "### <a id='toc4_3_'></a>[Tips and Tricks](#toc0_)\n"
   ]
  },
  {
   "cell_type": "markdown",
   "metadata": {},
   "source": [
    "- Use tab completion to quickly navigate long directory names.\n",
    "- If a directory name contains spaces, enclose it in quotes or escape the spaces:\n",
    "  ```bash\n",
    "  cd \"My Documents\"\n",
    "  ```\n",
    "  or\n",
    "  ```bash\n",
    "  cd My\\ Documents\n",
    "  ```\n",
    "- Use `cd ~/` to refer to directories in your home folder from anywhere.\n"
   ]
  },
  {
   "cell_type": "markdown",
   "metadata": {},
   "source": [
    "### <a id='toc4_4_'></a>[Common Mistakes](#toc0_)\n"
   ]
  },
  {
   "cell_type": "markdown",
   "metadata": {},
   "source": [
    "- Trying to `cd` into a file (it only works for directories).\n",
    "- Forgetting to use quotes or escape characters for directory names with spaces.\n",
    "- Not having the necessary permissions to enter a directory.\n"
   ]
  },
  {
   "cell_type": "markdown",
   "metadata": {},
   "source": [
    "### <a id='toc4_5_'></a>[Exercise](#toc0_)\n"
   ]
  },
  {
   "cell_type": "markdown",
   "metadata": {},
   "source": [
    "Try the following sequence:\n",
    "1. `cd` to your home directory\n",
    "2. `cd` to Documents\n",
    "3. Create a new directory with `mkdir test_dir`\n",
    "4. `cd` into the new directory\n",
    "5. Use `cd ..` to go back\n",
    "6. Use `cd -` to return to the new directory\n"
   ]
  },
  {
   "cell_type": "markdown",
   "metadata": {},
   "source": [
    "Understanding and mastering the `cd` command is crucial for efficient navigation in the Linux file system. With practice, moving between directories will become second nature, allowing you to focus on more complex tasks in your Linux journey."
   ]
  },
  {
   "cell_type": "markdown",
   "metadata": {},
   "source": [
    "## <a id='toc5_'></a>[Understanding Paths](#toc0_)"
   ]
  },
  {
   "cell_type": "markdown",
   "metadata": {},
   "source": [
    "In Linux, a path is a unique location to a file or folder in the file system. Understanding how paths work is crucial for effective navigation and file management in the terminal.\n"
   ]
  },
  {
   "cell_type": "markdown",
   "metadata": {},
   "source": [
    "There are two main types of paths:\n",
    "\n",
    "1. **Absolute Paths**\n",
    "2. **Relative Paths**\n"
   ]
  },
  {
   "cell_type": "markdown",
   "metadata": {},
   "source": [
    "#### <a id='toc5_1_1_'></a>[Absolute Paths](#toc0_)\n"
   ]
  },
  {
   "cell_type": "markdown",
   "metadata": {},
   "source": [
    "- Start from the root directory (/)\n",
    "- Provide the complete path to a file or directory\n",
    "- Always work regardless of the current working directory\n"
   ]
  },
  {
   "cell_type": "markdown",
   "metadata": {},
   "source": [
    "Example:\n",
    "```\n",
    "/home/username/Documents/file.txt\n",
    "```\n"
   ]
  },
  {
   "cell_type": "markdown",
   "metadata": {},
   "source": [
    "#### <a id='toc5_1_2_'></a>[Relative Paths](#toc0_)\n"
   ]
  },
  {
   "cell_type": "markdown",
   "metadata": {},
   "source": [
    "- Start from the current working directory\n",
    "- Can use special references like `.` (current directory) and `..` (parent directory)\n",
    "- Their validity depends on the current working directory\n"
   ]
  },
  {
   "cell_type": "markdown",
   "metadata": {},
   "source": [
    "Example:\n",
    "```\n",
    "Documents/file.txt\n",
    "```\n",
    "or\n",
    "```\n",
    "../Downloads/file.zip\n",
    "```\n"
   ]
  },
  {
   "cell_type": "markdown",
   "metadata": {},
   "source": [
    "### <a id='toc5_2_'></a>[Special Path References](#toc0_)\n"
   ]
  },
  {
   "cell_type": "markdown",
   "metadata": {},
   "source": [
    "Linux provides special references to make path navigation more convenient:\n",
    "- `.` : Represents the current directory\n",
    "- `..` : Represents the parent directory\n",
    "- `~` : Represents the home directory of the current user\n"
   ]
  },
  {
   "cell_type": "markdown",
   "metadata": {},
   "source": [
    "\n",
    "### <a id='toc5_3_'></a>[Practical Examples](#toc0_)\n"
   ]
  },
  {
   "cell_type": "markdown",
   "metadata": {},
   "source": [
    "1. Using absolute path:\n",
    "   ```bash\n",
    "   $ cd /home/username/Documents\n",
    "   ```\n",
    "\n",
    "2. Using relative path:\n",
    "   ```bash\n",
    "   $ cd Documents/Projects\n",
    "   ```\n",
    "\n",
    "3. Moving up one directory:\n",
    "   ```bash\n",
    "   $ cd ..\n",
    "   ```\n",
    "\n",
    "4. Referencing home directory:\n",
    "   ```bash\n",
    "   $ cd ~/Downloads\n",
    "   ```\n",
    "\n",
    "5. Combining special references:\n",
    "   ```bash\n",
    "   $ cd ../../usr/local/bin\n",
    "   ```\n"
   ]
  },
  {
   "cell_type": "markdown",
   "metadata": {},
   "source": [
    "Most shells support path completion using the Tab key:\n",
    "\n",
    "1. Start typing a path:\n",
    "23. If multiple options exist, press Tab twice to see all possibilities\n"
   ]
  },
  {
   "cell_type": "markdown",
   "metadata": {},
   "source": [
    "- Use absolute paths in scripts for reliability\n",
    "- Be cautious with spaces in file names (use quo\n",
    "- Remember that Linux is case-sensitive for file and direct\n",
    "st sh)"
   ]
  },
  {
   "cell_type": "markdown",
   "metadata": {},
   "source": [
    "### <a id='toc5_4_'></a>[Exercise](#toc0_)\n"
   ]
  },
  {
   "cell_type": "markdown",
   "metadata": {},
   "source": [
    "Try:\n",
    "1. From your home directory, use an absolute path to navigate to `/etc`\n",
    "2. Use a relative path to return to your home directory\n",
    "3. Navigate to a deeply nested directory using a combination of `..` and directory names\n",
    "4. Use the `~` shortcut to quickly return to your home directory\n"
   ]
  },
  {
   "cell_type": "markdown",
   "metadata": {},
   "source": [
    "Understanding paths is fundamentalworking effectivelyautious with spaces derstandnental to  quotes or escape characters)minalpractice, you'll o- Remember that Linux isbsolute and relative paths, making your navigation and file operations more efficient and precise."
   ]
  },
  {
   "cell_type": "markdown",
   "metadata": {},
   "source": [
    "## <a id='toc6_'></a>[Command History for Navigation](#toc0_)"
   ]
  },
  {
   "cell_type": "markdown",
   "metadata": {},
   "source": [
    "The command history feature in Linux terminals is a powerful tool that can significantly enhance your navigation efficiency. It allows you to recall and reuse previously entered commands, saving time and reducing typing errors.\n"
   ]
  },
  {
   "cell_type": "markdown",
   "metadata": {},
   "source": [
    "To access command history, you can use:\n",
    "1. **Using Arrow Keys**\n",
    "   - Press the Up Arrow (↑) to cycle through previous commands\n",
    "   - Press the Down Arrow (↓) to move forward in the history\n",
    "\n",
    "2. **The `history` Command**\n",
    "   - Type `history` to see a numbered list of recent commands\n"
   ]
  },
  {
   "cell_type": "markdown",
   "metadata": {},
   "source": [
    "### <a id='toc6_1_'></a>[Key Shortcuts for History Navigation](#toc0_)\n"
   ]
  },
  {
   "cell_type": "markdown",
   "metadata": {},
   "source": [
    "- `Ctrl + R`: Reverse search through command history\n",
    "- `Ctrl + G`: Exit the reverse search mode\n",
    "- `!!`: Repeat the last command\n",
    "- `!n`: Run the command number 'n' from the history list"
   ]
  },
  {
   "cell_type": "markdown",
   "metadata": {},
   "source": [
    "### <a id='toc6_2_'></a>[Practical Examples](#toc0_)\n"
   ]
  },
  {
   "cell_type": "markdown",
   "metadata": {},
   "source": [
    "1. Cycling through history:\n",
    "   ```bash\n",
    "   $ pwd\n",
    "   /home/username\n",
    "   $ ls\n",
    "   Documents Downloads Pictures\n",
    "   $ cd Documents\n",
    "   $ # Now press ↑ three times to get back to 'pwd'\n",
    "   ```\n"
   ]
  },
  {
   "cell_type": "markdown",
   "metadata": {},
   "source": [
    "2. Using reverse search:\n",
    "   ```bash\n",
    "   $ # Press Ctrl + R\n",
    "   (reverse-i-search)`': # Start typing a part of a previous command\n",
    "   ```\n"
   ]
  },
  {
   "cell_type": "markdown",
   "metadata": {},
   "source": [
    "3. Repeating the last command:\n",
    "   ```bash\n",
    "   $ echo \"Hello, World!\"\n",
    "   Hello, World!\n",
    "   $ !!\n",
    "   echo \"Hello, World!\"\n",
    "   Hello, World!\n",
    "   ```\n"
   ]
  },
  {
   "cell_type": "markdown",
   "metadata": {},
   "source": [
    "4. Running a specific command from history:\n",
    "   ```bash\n",
    "   $ history\n",
    "   1  pwd\n",
    "   2  ls\n",
    "   3  cd Documents\n",
    "   $ !2\n",
    "   ls\n",
    "   file1.txt file2.txt\n",
    "   ```\n"
   ]
  },
  {
   "cell_type": "markdown",
   "metadata": {},
   "source": [
    "### <a id='toc6_5_'></a>[Exercise](#toc0_)\n"
   ]
  },
  {
   "cell_type": "markdown",
   "metadata": {},
   "source": [
    "1. Navigate through several directories using `cd`\n",
    "2. Use the up arrow to recall and reuse a previous `cd` command\n",
    "3. Try `Ctrl + R` to search for a specific command you used\n",
    "4. Use `!!` to repeat your last command\n",
    "5. View your command history and run a specific command using its number\n"
   ]
  },
  {
   "cell_type": "markdown",
   "metadata": {},
   "source": [
    "Mastering command history navigation can significantly speed up your work in the terminal. It's especially useful when you need to repeat complex commands or when you're working in deep directory structures. With practice, these techniques will become an integral part of your Linux navigation toolkit."
   ]
  }
 ],
 "metadata": {
  "language_info": {
   "name": "python"
  }
 },
 "nbformat": 4,
 "nbformat_minor": 2
}
